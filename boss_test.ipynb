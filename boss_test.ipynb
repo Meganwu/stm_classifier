{
 "cells": [
  {
   "cell_type": "code",
   "execution_count": 2,
   "metadata": {},
   "outputs": [],
   "source": [
    "import numpy as np\n",
    "from boss.bo.bo_main import BOMain\n",
    "from boss.pp.pp_main import PPMain"
   ]
  },
  {
   "cell_type": "code",
   "execution_count": 3,
   "metadata": {},
   "outputs": [],
   "source": [
    "def func(X):\n",
    "    x = X[0, 0]\n",
    "    \n",
    "    return (6*x-2)**2 * np.sin(12*x - 4)\n",
    "\n",
    "bounds = np.array([[0., 1.]])"
   ]
  },
  {
   "cell_type": "code",
   "execution_count": 8,
   "metadata": {},
   "outputs": [],
   "source": [
    "X=np.array([0, 1, 2])"
   ]
  },
  {
   "cell_type": "code",
   "execution_count": 9,
   "metadata": {},
   "outputs": [
    {
     "ename": "IndexError",
     "evalue": "too many indices for array: array is 1-dimensional, but 2 were indexed",
     "output_type": "error",
     "traceback": [
      "\u001b[0;31m---------------------------------------------------------------------------\u001b[0m",
      "\u001b[0;31mIndexError\u001b[0m                                Traceback (most recent call last)",
      "\u001b[1;32m/scratch/work/wun2/stm_automation_all/boss_test.ipynb Cell 4\u001b[0m line \u001b[0;36m<cell line: 1>\u001b[0;34m()\u001b[0m\n\u001b[0;32m----> <a href='vscode-notebook-cell://ssh-remote%2Btriton.aalto.fi/scratch/work/wun2/stm_automation_all/boss_test.ipynb#X11sdnNjb2RlLXJlbW90ZQ%3D%3D?line=0'>1</a>\u001b[0m X[\u001b[39m0\u001b[39;49m, \u001b[39m0\u001b[39;49m]\n",
      "\u001b[0;31mIndexError\u001b[0m: too many indices for array: array is 1-dimensional, but 2 were indexed"
     ]
    }
   ],
   "source": [
    "X[0, 0]"
   ]
  },
  {
   "cell_type": "code",
   "execution_count": 15,
   "metadata": {},
   "outputs": [],
   "source": [
    "import pandas as pd\n",
    "import os\n",
    "output_dir='output'\n",
    "abc=pd.read_csv(os.path.join(output_dir, 'val_output_episode.txt'), sep=',')\n",
    "    \n",
    "    "
   ]
  },
  {
   "cell_type": "code",
   "execution_count": 16,
   "metadata": {},
   "outputs": [
    {
     "data": {
      "text/html": [
       "<div>\n",
       "<style scoped>\n",
       "    .dataframe tbody tr th:only-of-type {\n",
       "        vertical-align: middle;\n",
       "    }\n",
       "\n",
       "    .dataframe tbody tr th {\n",
       "        vertical-align: top;\n",
       "    }\n",
       "\n",
       "    .dataframe thead th {\n",
       "        text-align: right;\n",
       "    }\n",
       "</style>\n",
       "<table border=\"1\" class=\"dataframe\">\n",
       "  <thead>\n",
       "    <tr style=\"text-align: right;\">\n",
       "      <th></th>\n",
       "      <th></th>\n",
       "      <th>Validation output episode</th>\n",
       "    </tr>\n",
       "  </thead>\n",
       "  <tbody>\n",
       "    <tr>\n",
       "      <th>episode: 0</th>\n",
       "      <th>Loss: 7.123681455045133</th>\n",
       "      <td>Accuracy: 0.6818181818181818</td>\n",
       "    </tr>\n",
       "    <tr>\n",
       "      <th>episode: 10</th>\n",
       "      <th>Loss: 7.472529823715623</th>\n",
       "      <td>Accuracy: 0.6795454545454546</td>\n",
       "    </tr>\n",
       "    <tr>\n",
       "      <th>episode: 20</th>\n",
       "      <th>Loss: 7.4548136092521045</th>\n",
       "      <td>Accuracy: 0.6795454545454546</td>\n",
       "    </tr>\n",
       "    <tr>\n",
       "      <th>episode: 30</th>\n",
       "      <th>Loss: 7.3036421311868205</th>\n",
       "      <td>Accuracy: 0.6795454545454546</td>\n",
       "    </tr>\n",
       "    <tr>\n",
       "      <th>episode: 40</th>\n",
       "      <th>Loss: 7.453951771194871</th>\n",
       "      <td>Accuracy: 0.6795454545454546</td>\n",
       "    </tr>\n",
       "    <tr>\n",
       "      <th>episode: 50</th>\n",
       "      <th>Loss: 7.023748436489621</th>\n",
       "      <td>Accuracy: 0.65</td>\n",
       "    </tr>\n",
       "    <tr>\n",
       "      <th>episode: 60</th>\n",
       "      <th>Loss: 7.078650571204521</th>\n",
       "      <td>Accuracy: 0.6590909090909091</td>\n",
       "    </tr>\n",
       "    <tr>\n",
       "      <th>episode: 70</th>\n",
       "      <th>Loss: 6.89828228306126</th>\n",
       "      <td>Accuracy: 0.6863636363636364</td>\n",
       "    </tr>\n",
       "    <tr>\n",
       "      <th>episode: 80</th>\n",
       "      <th>Loss: 6.742948712529363</th>\n",
       "      <td>Accuracy: 0.6931818181818182</td>\n",
       "    </tr>\n",
       "    <tr>\n",
       "      <th>episode: 90</th>\n",
       "      <th>Loss: 7.352585934303902</th>\n",
       "      <td>Accuracy: 0.6795454545454546</td>\n",
       "    </tr>\n",
       "    <tr>\n",
       "      <th>episode: 100</th>\n",
       "      <th>Loss: 7.057381475293958</th>\n",
       "      <td>Accuracy: 0.6795454545454546</td>\n",
       "    </tr>\n",
       "    <tr>\n",
       "      <th>episode: 110</th>\n",
       "      <th>Loss: 6.5975880171801595</th>\n",
       "      <td>Accuracy: 0.6795454545454546</td>\n",
       "    </tr>\n",
       "    <tr>\n",
       "      <th>episode: 120</th>\n",
       "      <th>Loss: 6.718650012402921</th>\n",
       "      <td>Accuracy: 0.6818181818181818</td>\n",
       "    </tr>\n",
       "    <tr>\n",
       "      <th>episode: 130</th>\n",
       "      <th>Loss: 6.734394827404538</th>\n",
       "      <td>Accuracy: 0.6909090909090909</td>\n",
       "    </tr>\n",
       "    <tr>\n",
       "      <th>episode: 140</th>\n",
       "      <th>Loss: 6.352085725681202</th>\n",
       "      <td>Accuracy: 0.7090909090909091</td>\n",
       "    </tr>\n",
       "    <tr>\n",
       "      <th>episode: 150</th>\n",
       "      <th>Loss: 6.2096477714744776</th>\n",
       "      <td>Accuracy: 0.7045454545454546</td>\n",
       "    </tr>\n",
       "    <tr>\n",
       "      <th>episode: 160</th>\n",
       "      <th>Loss: 5.8082008232941496</th>\n",
       "      <td>Accuracy: 0.7318181818181818</td>\n",
       "    </tr>\n",
       "    <tr>\n",
       "      <th>episode: 170</th>\n",
       "      <th>Loss: 5.791467402432416</th>\n",
       "      <td>Accuracy: 0.7363636363636363</td>\n",
       "    </tr>\n",
       "    <tr>\n",
       "      <th>episode: 180</th>\n",
       "      <th>Loss: 5.796680779070468</th>\n",
       "      <td>Accuracy: 0.740909090909091</td>\n",
       "    </tr>\n",
       "    <tr>\n",
       "      <th>episode: 190</th>\n",
       "      <th>Loss: 5.683217989431845</th>\n",
       "      <td>Accuracy: 0.75</td>\n",
       "    </tr>\n",
       "  </tbody>\n",
       "</table>\n",
       "</div>"
      ],
      "text/plain": [
       "                                            Validation output episode\n",
       "episode: 0    Loss: 7.123681455045133    Accuracy: 0.6818181818181818\n",
       "episode: 10   Loss: 7.472529823715623    Accuracy: 0.6795454545454546\n",
       "episode: 20   Loss: 7.4548136092521045   Accuracy: 0.6795454545454546\n",
       "episode: 30   Loss: 7.3036421311868205   Accuracy: 0.6795454545454546\n",
       "episode: 40   Loss: 7.453951771194871    Accuracy: 0.6795454545454546\n",
       "episode: 50   Loss: 7.023748436489621                  Accuracy: 0.65\n",
       "episode: 60   Loss: 7.078650571204521    Accuracy: 0.6590909090909091\n",
       "episode: 70   Loss: 6.89828228306126     Accuracy: 0.6863636363636364\n",
       "episode: 80   Loss: 6.742948712529363    Accuracy: 0.6931818181818182\n",
       "episode: 90   Loss: 7.352585934303902    Accuracy: 0.6795454545454546\n",
       "episode: 100  Loss: 7.057381475293958    Accuracy: 0.6795454545454546\n",
       "episode: 110  Loss: 6.5975880171801595   Accuracy: 0.6795454545454546\n",
       "episode: 120  Loss: 6.718650012402921    Accuracy: 0.6818181818181818\n",
       "episode: 130  Loss: 6.734394827404538    Accuracy: 0.6909090909090909\n",
       "episode: 140  Loss: 6.352085725681202    Accuracy: 0.7090909090909091\n",
       "episode: 150  Loss: 6.2096477714744776   Accuracy: 0.7045454545454546\n",
       "episode: 160  Loss: 5.8082008232941496   Accuracy: 0.7318181818181818\n",
       "episode: 170  Loss: 5.791467402432416    Accuracy: 0.7363636363636363\n",
       "episode: 180  Loss: 5.796680779070468     Accuracy: 0.740909090909091\n",
       "episode: 190  Loss: 5.683217989431845                  Accuracy: 0.75"
      ]
     },
     "execution_count": 16,
     "metadata": {},
     "output_type": "execute_result"
    }
   ],
   "source": [
    "abc"
   ]
  },
  {
   "cell_type": "code",
   "execution_count": 24,
   "metadata": {},
   "outputs": [],
   "source": [
    "from datetime import datetime"
   ]
  },
  {
   "cell_type": "code",
   "execution_count": 30,
   "metadata": {},
   "outputs": [
    {
     "data": {
      "text/plain": [
       "22"
      ]
     },
     "execution_count": 30,
     "metadata": {},
     "output_type": "execute_result"
    }
   ],
   "source": [
    "datetime.now().minute"
   ]
  },
  {
   "cell_type": "code",
   "execution_count": null,
   "metadata": {},
   "outputs": [],
   "source": [
    "def func(X):\n",
    "    optimizer = torch.optim.RMSprop(model.parameters(), lr=X)\n",
    "    current_time=datatime.now()\n",
    "    output_dir='output_%s_%s%s%s' % (X, current_time.month, current_time.hour, current_time.minute)\n",
    "    net=img_classifier(model, device='cuda', output_dir=output_dir)\n",
    "    net.model_train(train_loader=train_loader, val_loader=val_loader, device='cuda', tensorboard=True,optimizer=optimizer,\n",
    "                    scheduler=scheduler)\n",
    "    with open(os.path.join(output_dir, 'val_output_episode.txt'), 'r'):\n",
    "        \n",
    "    \n"
   ]
  },
  {
   "cell_type": "code",
   "execution_count": 4,
   "metadata": {},
   "outputs": [],
   "source": [
    "bo = BOMain(\n",
    "    func,\n",
    "    bounds,\n",
    "    yrange=[-1, 1],\n",
    "    kernel='rbf',\n",
    "    initpts=5,\n",
    "    iterpts=10\n",
    ")"
   ]
  },
  {
   "cell_type": "code",
   "execution_count": 5,
   "metadata": {},
   "outputs": [],
   "source": [
    "res = bo.run()"
   ]
  },
  {
   "cell_type": "code",
   "execution_count": 6,
   "metadata": {},
   "outputs": [
    {
     "name": "stdout",
     "output_type": "stream",
     "text": [
      "Predicted global min:  -6.020737093431939\n"
     ]
    }
   ],
   "source": [
    "print('Predicted global min: ', res.select('mu_glmin', -1))"
   ]
  },
  {
   "cell_type": "code",
   "execution_count": 7,
   "metadata": {},
   "outputs": [],
   "source": [
    "pp = PPMain(res, pp_models=True, pp_acq_funcs=True)\n",
    "pp.run()"
   ]
  }
 ],
 "metadata": {
  "kernelspec": {
   "display_name": "ml",
   "language": "python",
   "name": "python3"
  },
  "language_info": {
   "codemirror_mode": {
    "name": "ipython",
    "version": 3
   },
   "file_extension": ".py",
   "mimetype": "text/x-python",
   "name": "python",
   "nbconvert_exporter": "python",
   "pygments_lexer": "ipython3",
   "version": "3.8.15"
  }
 },
 "nbformat": 4,
 "nbformat_minor": 2
}
